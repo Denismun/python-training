{
 "cells": [
  {
   "cell_type": "code",
   "execution_count": 14,
   "metadata": {},
   "outputs": [
    {
     "name": "stdout",
     "output_type": "stream",
     "text": [
      "4\n",
      "[4, 6, 8, 9, 11]\n",
      "[4, 6, 8, 9, 11, 13, 17, 20]\n",
      "[4, 6, 8, 9, 11, 13, 17, 20]\n",
      "[20, 17, 13, 11, 9, 8, 6, 4]\n"
     ]
    }
   ],
   "source": [
    "L = [4,6,8,9]\n",
    "print(len(L))\n",
    "L.insert(4,11)\n",
    "print(L)\n",
    "L.extend([13,17,20])\n",
    "print(L)\n",
    "L.sort()\n",
    "print(L)\n",
    "L.sort(reverse=True)\n",
    "print(L)"
   ]
  },
  {
   "cell_type": "code",
   "execution_count": 50,
   "metadata": {},
   "outputs": [
    {
     "name": "stdout",
     "output_type": "stream",
     "text": [
      "4\n",
      "9\n",
      "11\n",
      "[4, 6, 8]\n",
      "9 11\n",
      "[9, 11]\n",
      "[4, 8, 11]\n",
      "[11, 8, 4]\n",
      "[50, 6, 8, 9, 11]\n",
      "[50, 22, 33, 44, 9, 11]\n",
      "[9, 11, 22, 33, 44, 50]\n"
     ]
    }
   ],
   "source": [
    "#Exercise\n",
    "L = [4,6,8,9,11]\n",
    "#Q1\n",
    "print(L[0])\n",
    "#Q2\n",
    "print(L[3])\n",
    "#Q3\n",
    "print(L[-1])\n",
    "#Q4\n",
    "print(L[:3])\n",
    "#Q5\n",
    "print(L[-2],L[-1])\n",
    "print(L[-2:])\n",
    "#Q6\n",
    "print(L[::2])\n",
    "#Q7\n",
    "print(L[::-2])\n",
    "#Q8\n",
    "L[0]=50\n",
    "print(L)\n",
    "#Q9\n",
    "L[1:3]=[22,33,44]\n",
    "print(L)\n",
    "#Q10\n",
    "L.sort()\n",
    "print(L)"
   ]
  },
  {
   "cell_type": "code",
   "execution_count": null,
   "metadata": {},
   "outputs": [],
   "source": []
  },
  {
   "cell_type": "code",
   "execution_count": 63,
   "metadata": {},
   "outputs": [
    {
     "name": "stdout",
     "output_type": "stream",
     "text": [
      "[1, 1, 2, 5, 5, 5, 8, 8, 9]\n",
      "[1, 2, 2, 3, 3, 3, 6, 10]\n",
      "{1, 2, 5, 8, 9}\n",
      "{1, 2, 3, 6, 10}\n",
      "{1, 2, 3, 5, 6, 8, 9, 10}\n",
      "{1, 2}\n"
     ]
    }
   ],
   "source": [
    "#Exercise SET\n",
    "L_A = [1,1,2,5,5,5,8,8,9]\n",
    "L_B = [1,2,2,3,3,3,6,10]\n",
    "print(L_A)\n",
    "print(L_B)\n",
    "S_A = set(L_A)\n",
    "S_B = set(L_B)\n",
    "print(S_A)\n",
    "print(S_B)\n",
    "\n",
    "print(S_A.union(S_B))\n",
    "\n",
    "print(S_A.intersection(S_B))\n",
    "\n"
   ]
  },
  {
   "cell_type": "code",
   "execution_count": 67,
   "metadata": {},
   "outputs": [
    {
     "name": "stdout",
     "output_type": "stream",
     "text": [
      "{'one': 1, 'three': 3, 'two': 2, 'five': 5, 'four': 4, 'six': 6, 'seven': 7, 'eight': 8, 'nine': 9, 'ten': 10}\n"
     ]
    }
   ],
   "source": [
    "#Exercise DICTIONARIES\n",
    "\n",
    "Dic_Num = {'one':1, 'three':3, 'two':2, 'five':5, 'four':4, 'six':6,'seven':7, 'eight':8, 'nine':9, 'ten':10}\n",
    "print(Dic_Num)\n"
   ]
  },
  {
   "cell_type": "code",
   "execution_count": 83,
   "metadata": {},
   "outputs": [
    {
     "name": "stdout",
     "output_type": "stream",
     "text": [
      "0\n",
      "X is Zero\n",
      "X is Positive\n",
      "X is Negative\n"
     ]
    }
   ],
   "source": [
    "#Conditional Exercise 1\n",
    "x=input()\n",
    "x=int(x)\n",
    "if x == 0:\n",
    "    print(\"X is Zero\")\n",
    "    \n",
    "if x >= 0:\n",
    "    print(\"X is Positive\")\n",
    "    \n",
    "if x <= 0:\n",
    "    print(\"X is Negative\")\n"
   ]
  },
  {
   "cell_type": "code",
   "execution_count": null,
   "metadata": {},
   "outputs": [],
   "source": []
  },
  {
   "cell_type": "code",
   "execution_count": null,
   "metadata": {},
   "outputs": [],
   "source": []
  }
 ],
 "metadata": {
  "kernelspec": {
   "display_name": "Python 3",
   "language": "python",
   "name": "python3"
  },
  "language_info": {
   "codemirror_mode": {
    "name": "ipython",
    "version": 3
   },
   "file_extension": ".py",
   "mimetype": "text/x-python",
   "name": "python",
   "nbconvert_exporter": "python",
   "pygments_lexer": "ipython3",
   "version": "3.8.8"
  }
 },
 "nbformat": 4,
 "nbformat_minor": 4
}
